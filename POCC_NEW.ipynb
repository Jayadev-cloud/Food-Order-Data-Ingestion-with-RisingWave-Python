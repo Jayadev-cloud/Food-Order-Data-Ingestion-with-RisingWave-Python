{
  "nbformat": 4,
  "nbformat_minor": 0,
  "metadata": {
    "colab": {
      "provenance": []
    },
    "kernelspec": {
      "name": "python3",
      "display_name": "Python 3"
    },
    "language_info": {
      "name": "python"
    }
  },
  "cells": [
    {
      "cell_type": "code",
      "source": [
        "import psycopg2\n",
        "import pandas as pd\n",
        "from datetime import datetime"
      ],
      "metadata": {
        "id": "VCHXUuzjL1bF"
      },
      "execution_count": null,
      "outputs": []
    },
    {
      "cell_type": "markdown",
      "source": [
        "\n",
        "Step 1: Connect to RisingWave"
      ],
      "metadata": {
        "id": "-bQrpwbWMQOv"
      }
    },
    {
      "cell_type": "code",
      "execution_count": null,
      "metadata": {
        "colab": {
          "base_uri": "https://localhost:8080/"
        },
        "id": "TvIJE_xjLjfl",
        "outputId": "efbe9357-4ba8-445c-d396-2516c61c3c44"
      },
      "outputs": [
        {
          "output_type": "stream",
          "name": "stdout",
          "text": [
            "✅ Connected to RisingWave!\n"
          ]
        }
      ],
      "source": [
        "import psycopg2\n",
        "\n",
        "conn = psycopg2.connect(\n",
        "    host=\"rwc-g1iod2ng1pe9jb0hpk22vhqj2s-my-project.prod-aws-euno1-eks-a.risingwave.cloud\",\n",
        "    port=4566,\n",
        "    user=\"jd\",\n",
        "    password=\"Degirk23@\",\n",
        "    dbname=\"dev\",\n",
        "    sslmode=\"require\",\n",
        ")\n",
        "cursor = conn.cursor()\n",
        "print(\"✅ Connected to RisingWave!\")\n"
      ]
    },
    {
      "cell_type": "markdown",
      "source": [
        "Step 2: Insert data manually with real-time timestamps\n"
      ],
      "metadata": {
        "id": "n-QcFAwlMTqF"
      }
    },
    {
      "cell_type": "code",
      "source": [
        "def insert_manual():\n",
        "    try:\n",
        "        order_id = int(input(\"🆔 Order ID: \"))\n",
        "        customer_name = input(\"👤 Customer Name: \")\n",
        "        restaurant_name = input(\"🍽️ Restaurant Name: \")\n",
        "        item_name = input(\"🥡 Item Name: \")\n",
        "        delivery_status = input(\"🚚 Delivery Status (Preparing/Delivered/Cancelled): \")\n",
        "        rating = float(input(\"⭐ Rating (0 to 5): \"))\n",
        "\n",
        "        current_time = datetime.now().strftime('%Y-%m-%d %H:%M:%S')  # Real-time timestamp\n",
        "\n",
        "        cursor.execute(\"\"\"\n",
        "            INSERT INTO food_orders\n",
        "            (order_id, customer_name, restaurant_name, item_name, order_time, delivery_status, delivery_time, rating)\n",
        "            VALUES (%s, %s, %s, %s, %s, %s, %s, %s);\n",
        "        \"\"\", (order_id, customer_name, restaurant_name, item_name,\n",
        "              current_time, delivery_status, current_time, rating))\n",
        "        conn.commit()\n",
        "        print(\"✅ Record inserted!\\n\")\n",
        "\n",
        "    except Exception as e:\n",
        "        print(f\"❌ Error: {e}\")"
      ],
      "metadata": {
        "id": "jru1pIFbMW_M"
      },
      "execution_count": null,
      "outputs": []
    },
    {
      "cell_type": "markdown",
      "source": [
        "Step 3: Upload from CSV or Excel (with real-time timestamp override)"
      ],
      "metadata": {
        "id": "oLnYSNDgMwtZ"
      }
    },
    {
      "cell_type": "code",
      "source": [
        "def insert_from_csv_or_excel():\n",
        "    from google.colab import files\n",
        "    uploaded = files.upload()\n",
        "\n",
        "    for fn in uploaded.keys():\n",
        "        print(f\"📄 Processing file: {fn}\")\n",
        "\n",
        "        if fn.endswith('.csv'):\n",
        "            df = pd.read_csv(fn)\n",
        "        elif fn.endswith(('.xlsx', '.xls')):\n",
        "            df = pd.read_excel(fn)\n",
        "        else:\n",
        "            print(\"❌ Unsupported file type. Please upload CSV or Excel.\")\n",
        "            return\n",
        "\n",
        "        for i, row in df.iterrows():\n",
        "            try:\n",
        "                now = datetime.now().strftime('%Y-%m-%d %H:%M:%S')  # Real-time timestamp\n",
        "                cursor.execute(\"\"\"\n",
        "                    INSERT INTO food_orders\n",
        "                    (order_id, customer_name, restaurant_name, item_name, order_time, delivery_status, delivery_time, rating)\n",
        "                    VALUES (%s, %s, %s, %s, %s, %s, %s, %s);\n",
        "                \"\"\", (\n",
        "                    int(row['order_id']),\n",
        "                    row['customer_name'],\n",
        "                    row['restaurant_name'],\n",
        "                    row['item_name'],\n",
        "                    now,  # use current time\n",
        "                    row['delivery_status'],\n",
        "                    now,  # use current time\n",
        "                    float(row['rating']),\n",
        "                ))\n",
        "                conn.commit()\n",
        "            except Exception as e:\n",
        "                print(f\"❌ Failed to insert row {i}: {e}\")\n",
        "        print(\"✅ All data inserted.\\n\")\n"
      ],
      "metadata": {
        "id": "TwcZuShpMxms"
      },
      "execution_count": null,
      "outputs": []
    },
    {
      "cell_type": "markdown",
      "source": [
        "Step 4: Simple Menu (Only two options)"
      ],
      "metadata": {
        "id": "QTH321C5M4wV"
      }
    },
    {
      "cell_type": "code",
      "source": [
        "print(\"\\n📋 Choose an option:\")\n",
        "print(\"1️⃣ Insert data manually\")\n",
        "print(\"2️⃣ Upload CSV or Excel to RisingWave\")\n",
        "\n",
        "choice = input(\"Enter your choice (1/2): \")\n",
        "\n",
        "if choice == '1':\n",
        "    insert_manual()\n",
        "elif choice == '2':\n",
        "    insert_from_csv_or_excel()\n",
        "else:\n",
        "    print(\"❌ Invalid choice.\")\n"
      ],
      "metadata": {
        "colab": {
          "base_uri": "https://localhost:8080/",
          "height": 125
        },
        "id": "Ehbd2TrJM2dz",
        "outputId": "abc5cf67-f6bc-4d5e-e955-ddad33580a69"
      },
      "execution_count": null,
      "outputs": [
        {
          "name": "stdout",
          "output_type": "stream",
          "text": [
            "\n",
            "📋 Choose an option:\n",
            "1️⃣ Insert data manually\n",
            "2️⃣ Upload CSV or Excel to RisingWave\n",
            "Enter your choice (1/2): 2\n"
          ]
        },
        {
          "output_type": "display_data",
          "data": {
            "text/plain": [
              "<IPython.core.display.HTML object>"
            ],
            "text/html": [
              "\n",
              "     <input type=\"file\" id=\"files-39cb1f2c-3539-45c1-b624-7d411509a12c\" name=\"files[]\" multiple disabled\n",
              "        style=\"border:none\" />\n",
              "     <output id=\"result-39cb1f2c-3539-45c1-b624-7d411509a12c\">\n",
              "      Upload widget is only available when the cell has been executed in the\n",
              "      current browser session. Please rerun this cell to enable.\n",
              "      </output>\n",
              "      <script>// Copyright 2017 Google LLC\n",
              "//\n",
              "// Licensed under the Apache License, Version 2.0 (the \"License\");\n",
              "// you may not use this file except in compliance with the License.\n",
              "// You may obtain a copy of the License at\n",
              "//\n",
              "//      http://www.apache.org/licenses/LICENSE-2.0\n",
              "//\n",
              "// Unless required by applicable law or agreed to in writing, software\n",
              "// distributed under the License is distributed on an \"AS IS\" BASIS,\n",
              "// WITHOUT WARRANTIES OR CONDITIONS OF ANY KIND, either express or implied.\n",
              "// See the License for the specific language governing permissions and\n",
              "// limitations under the License.\n",
              "\n",
              "/**\n",
              " * @fileoverview Helpers for google.colab Python module.\n",
              " */\n",
              "(function(scope) {\n",
              "function span(text, styleAttributes = {}) {\n",
              "  const element = document.createElement('span');\n",
              "  element.textContent = text;\n",
              "  for (const key of Object.keys(styleAttributes)) {\n",
              "    element.style[key] = styleAttributes[key];\n",
              "  }\n",
              "  return element;\n",
              "}\n",
              "\n",
              "// Max number of bytes which will be uploaded at a time.\n",
              "const MAX_PAYLOAD_SIZE = 100 * 1024;\n",
              "\n",
              "function _uploadFiles(inputId, outputId) {\n",
              "  const steps = uploadFilesStep(inputId, outputId);\n",
              "  const outputElement = document.getElementById(outputId);\n",
              "  // Cache steps on the outputElement to make it available for the next call\n",
              "  // to uploadFilesContinue from Python.\n",
              "  outputElement.steps = steps;\n",
              "\n",
              "  return _uploadFilesContinue(outputId);\n",
              "}\n",
              "\n",
              "// This is roughly an async generator (not supported in the browser yet),\n",
              "// where there are multiple asynchronous steps and the Python side is going\n",
              "// to poll for completion of each step.\n",
              "// This uses a Promise to block the python side on completion of each step,\n",
              "// then passes the result of the previous step as the input to the next step.\n",
              "function _uploadFilesContinue(outputId) {\n",
              "  const outputElement = document.getElementById(outputId);\n",
              "  const steps = outputElement.steps;\n",
              "\n",
              "  const next = steps.next(outputElement.lastPromiseValue);\n",
              "  return Promise.resolve(next.value.promise).then((value) => {\n",
              "    // Cache the last promise value to make it available to the next\n",
              "    // step of the generator.\n",
              "    outputElement.lastPromiseValue = value;\n",
              "    return next.value.response;\n",
              "  });\n",
              "}\n",
              "\n",
              "/**\n",
              " * Generator function which is called between each async step of the upload\n",
              " * process.\n",
              " * @param {string} inputId Element ID of the input file picker element.\n",
              " * @param {string} outputId Element ID of the output display.\n",
              " * @return {!Iterable<!Object>} Iterable of next steps.\n",
              " */\n",
              "function* uploadFilesStep(inputId, outputId) {\n",
              "  const inputElement = document.getElementById(inputId);\n",
              "  inputElement.disabled = false;\n",
              "\n",
              "  const outputElement = document.getElementById(outputId);\n",
              "  outputElement.innerHTML = '';\n",
              "\n",
              "  const pickedPromise = new Promise((resolve) => {\n",
              "    inputElement.addEventListener('change', (e) => {\n",
              "      resolve(e.target.files);\n",
              "    });\n",
              "  });\n",
              "\n",
              "  const cancel = document.createElement('button');\n",
              "  inputElement.parentElement.appendChild(cancel);\n",
              "  cancel.textContent = 'Cancel upload';\n",
              "  const cancelPromise = new Promise((resolve) => {\n",
              "    cancel.onclick = () => {\n",
              "      resolve(null);\n",
              "    };\n",
              "  });\n",
              "\n",
              "  // Wait for the user to pick the files.\n",
              "  const files = yield {\n",
              "    promise: Promise.race([pickedPromise, cancelPromise]),\n",
              "    response: {\n",
              "      action: 'starting',\n",
              "    }\n",
              "  };\n",
              "\n",
              "  cancel.remove();\n",
              "\n",
              "  // Disable the input element since further picks are not allowed.\n",
              "  inputElement.disabled = true;\n",
              "\n",
              "  if (!files) {\n",
              "    return {\n",
              "      response: {\n",
              "        action: 'complete',\n",
              "      }\n",
              "    };\n",
              "  }\n",
              "\n",
              "  for (const file of files) {\n",
              "    const li = document.createElement('li');\n",
              "    li.append(span(file.name, {fontWeight: 'bold'}));\n",
              "    li.append(span(\n",
              "        `(${file.type || 'n/a'}) - ${file.size} bytes, ` +\n",
              "        `last modified: ${\n",
              "            file.lastModifiedDate ? file.lastModifiedDate.toLocaleDateString() :\n",
              "                                    'n/a'} - `));\n",
              "    const percent = span('0% done');\n",
              "    li.appendChild(percent);\n",
              "\n",
              "    outputElement.appendChild(li);\n",
              "\n",
              "    const fileDataPromise = new Promise((resolve) => {\n",
              "      const reader = new FileReader();\n",
              "      reader.onload = (e) => {\n",
              "        resolve(e.target.result);\n",
              "      };\n",
              "      reader.readAsArrayBuffer(file);\n",
              "    });\n",
              "    // Wait for the data to be ready.\n",
              "    let fileData = yield {\n",
              "      promise: fileDataPromise,\n",
              "      response: {\n",
              "        action: 'continue',\n",
              "      }\n",
              "    };\n",
              "\n",
              "    // Use a chunked sending to avoid message size limits. See b/62115660.\n",
              "    let position = 0;\n",
              "    do {\n",
              "      const length = Math.min(fileData.byteLength - position, MAX_PAYLOAD_SIZE);\n",
              "      const chunk = new Uint8Array(fileData, position, length);\n",
              "      position += length;\n",
              "\n",
              "      const base64 = btoa(String.fromCharCode.apply(null, chunk));\n",
              "      yield {\n",
              "        response: {\n",
              "          action: 'append',\n",
              "          file: file.name,\n",
              "          data: base64,\n",
              "        },\n",
              "      };\n",
              "\n",
              "      let percentDone = fileData.byteLength === 0 ?\n",
              "          100 :\n",
              "          Math.round((position / fileData.byteLength) * 100);\n",
              "      percent.textContent = `${percentDone}% done`;\n",
              "\n",
              "    } while (position < fileData.byteLength);\n",
              "  }\n",
              "\n",
              "  // All done.\n",
              "  yield {\n",
              "    response: {\n",
              "      action: 'complete',\n",
              "    }\n",
              "  };\n",
              "}\n",
              "\n",
              "scope.google = scope.google || {};\n",
              "scope.google.colab = scope.google.colab || {};\n",
              "scope.google.colab._files = {\n",
              "  _uploadFiles,\n",
              "  _uploadFilesContinue,\n",
              "};\n",
              "})(self);\n",
              "</script> "
            ]
          },
          "metadata": {}
        }
      ]
    },
    {
      "cell_type": "code",
      "source": [],
      "metadata": {
        "id": "92VBhudPXjFa"
      },
      "execution_count": null,
      "outputs": []
    },
    {
      "cell_type": "code",
      "source": [],
      "metadata": {
        "id": "ww885zReXxYM"
      },
      "execution_count": null,
      "outputs": []
    },
    {
      "cell_type": "code",
      "source": [],
      "metadata": {
        "id": "gvDBHD6IXt38"
      },
      "execution_count": null,
      "outputs": []
    }
  ]
}